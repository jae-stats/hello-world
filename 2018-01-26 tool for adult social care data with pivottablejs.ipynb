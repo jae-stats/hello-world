{
 "cells": [
  {
   "cell_type": "code",
   "execution_count": 1,
   "metadata": {
    "collapsed": false
   },
   "outputs": [],
   "source": [
    "import pivottablejs # in Anaconda cmd prompt, pip install pivottablejs\n",
    "from pivottablejs import pivot_ui\n",
    "import pandas as pd\n",
    "import os"
   ]
  },
  {
   "cell_type": "code",
   "execution_count": 2,
   "metadata": {
    "collapsed": true
   },
   "outputs": [],
   "source": [
    "# cleaned data from Spyder program\n",
    "path_data = 'T:\\Projects\\Adult Social Care\\Inputs\\Extraction tool\\data prepped'"
   ]
  },
  {
   "cell_type": "code",
   "execution_count": 5,
   "metadata": {
    "collapsed": false
   },
   "outputs": [
    {
     "data": {
      "text/html": [
       "<div>\n",
       "<style>\n",
       "    .dataframe thead tr:only-child th {\n",
       "        text-align: right;\n",
       "    }\n",
       "\n",
       "    .dataframe thead th {\n",
       "        text-align: left;\n",
       "    }\n",
       "\n",
       "    .dataframe tbody tr th {\n",
       "        vertical-align: top;\n",
       "    }\n",
       "</style>\n",
       "<table border=\"1\" class=\"dataframe\">\n",
       "  <thead>\n",
       "    <tr style=\"text-align: right;\">\n",
       "      <th></th>\n",
       "      <th>Unnamed: 0</th>\n",
       "      <th>Support type</th>\n",
       "      <th>Age category</th>\n",
       "      <th>Summary</th>\n",
       "      <th>Delivery mechanism</th>\n",
       "      <th>Accounting category</th>\n",
       "      <th>North West</th>\n",
       "      <th>North East</th>\n",
       "      <th>Yorkshire and Humber</th>\n",
       "      <th>West Midlands</th>\n",
       "      <th>East Midlands</th>\n",
       "      <th>East</th>\n",
       "      <th>South East</th>\n",
       "      <th>London</th>\n",
       "      <th>South West</th>\n",
       "      <th>ENGLAND</th>\n",
       "    </tr>\n",
       "  </thead>\n",
       "  <tbody>\n",
       "    <tr>\n",
       "      <th>0</th>\n",
       "      <td>0</td>\n",
       "      <td>Long term</td>\n",
       "      <td>Age 18 to 64</td>\n",
       "      <td>Physical support</td>\n",
       "      <td>Nursing</td>\n",
       "      <td>Gross total cost: provision by others</td>\n",
       "      <td>11946.93</td>\n",
       "      <td>7311.51</td>\n",
       "      <td>11802.57</td>\n",
       "      <td>13690.18</td>\n",
       "      <td>9569.34</td>\n",
       "      <td>12858.80</td>\n",
       "      <td>19726.87</td>\n",
       "      <td>23966.36</td>\n",
       "      <td>12099.71</td>\n",
       "      <td>122972.28</td>\n",
       "    </tr>\n",
       "    <tr>\n",
       "      <th>1</th>\n",
       "      <td>1</td>\n",
       "      <td>Long term</td>\n",
       "      <td>Age 18 to 64</td>\n",
       "      <td>Physical support</td>\n",
       "      <td>Nursing</td>\n",
       "      <td>Gross total cost: grants to voluntary org</td>\n",
       "      <td>0.00</td>\n",
       "      <td>0.00</td>\n",
       "      <td>19.23</td>\n",
       "      <td>7.00</td>\n",
       "      <td>0.00</td>\n",
       "      <td>0.00</td>\n",
       "      <td>0.00</td>\n",
       "      <td>0.00</td>\n",
       "      <td>0.00</td>\n",
       "      <td>26.23</td>\n",
       "    </tr>\n",
       "    <tr>\n",
       "      <th>2</th>\n",
       "      <td>2</td>\n",
       "      <td>Long term</td>\n",
       "      <td>Age 18 to 64</td>\n",
       "      <td>Physical support</td>\n",
       "      <td>Nursing</td>\n",
       "      <td>Gross total cost: total expenditure</td>\n",
       "      <td>11946.93</td>\n",
       "      <td>7311.51</td>\n",
       "      <td>11821.80</td>\n",
       "      <td>13697.18</td>\n",
       "      <td>9569.34</td>\n",
       "      <td>12858.80</td>\n",
       "      <td>19726.87</td>\n",
       "      <td>23966.36</td>\n",
       "      <td>12099.71</td>\n",
       "      <td>122998.51</td>\n",
       "    </tr>\n",
       "    <tr>\n",
       "      <th>3</th>\n",
       "      <td>3</td>\n",
       "      <td>Long term</td>\n",
       "      <td>Age 18 to 64</td>\n",
       "      <td>Physical support</td>\n",
       "      <td>Nursing</td>\n",
       "      <td>Income: client contributions</td>\n",
       "      <td>3316.02</td>\n",
       "      <td>1176.26</td>\n",
       "      <td>1733.58</td>\n",
       "      <td>1811.88</td>\n",
       "      <td>1701.83</td>\n",
       "      <td>1566.36</td>\n",
       "      <td>4265.80</td>\n",
       "      <td>3362.29</td>\n",
       "      <td>1917.12</td>\n",
       "      <td>20851.14</td>\n",
       "    </tr>\n",
       "    <tr>\n",
       "      <th>4</th>\n",
       "      <td>4</td>\n",
       "      <td>Long term</td>\n",
       "      <td>Age 18 to 64</td>\n",
       "      <td>Physical support</td>\n",
       "      <td>Nursing</td>\n",
       "      <td>Income: joint arrangements</td>\n",
       "      <td>5.12</td>\n",
       "      <td>33.00</td>\n",
       "      <td>2.00</td>\n",
       "      <td>0.00</td>\n",
       "      <td>0.00</td>\n",
       "      <td>8.60</td>\n",
       "      <td>14.61</td>\n",
       "      <td>121.00</td>\n",
       "      <td>0.00</td>\n",
       "      <td>184.33</td>\n",
       "    </tr>\n",
       "  </tbody>\n",
       "</table>\n",
       "</div>"
      ],
      "text/plain": [
       "   Unnamed: 0 Support type  Age category           Summary Delivery mechanism  \\\n",
       "0           0    Long term  Age 18 to 64  Physical support            Nursing   \n",
       "1           1    Long term  Age 18 to 64  Physical support            Nursing   \n",
       "2           2    Long term  Age 18 to 64  Physical support            Nursing   \n",
       "3           3    Long term  Age 18 to 64  Physical support            Nursing   \n",
       "4           4    Long term  Age 18 to 64  Physical support            Nursing   \n",
       "\n",
       "                         Accounting category  North West  North East  \\\n",
       "0      Gross total cost: provision by others    11946.93     7311.51   \n",
       "1  Gross total cost: grants to voluntary org        0.00        0.00   \n",
       "2        Gross total cost: total expenditure    11946.93     7311.51   \n",
       "3               Income: client contributions     3316.02     1176.26   \n",
       "4                 Income: joint arrangements        5.12       33.00   \n",
       "\n",
       "   Yorkshire and Humber  West Midlands  East Midlands      East  South East  \\\n",
       "0              11802.57       13690.18        9569.34  12858.80    19726.87   \n",
       "1                 19.23           7.00           0.00      0.00        0.00   \n",
       "2              11821.80       13697.18        9569.34  12858.80    19726.87   \n",
       "3               1733.58        1811.88        1701.83   1566.36     4265.80   \n",
       "4                  2.00           0.00           0.00      8.60       14.61   \n",
       "\n",
       "     London  South West    ENGLAND  \n",
       "0  23966.36    12099.71  122972.28  \n",
       "1      0.00        0.00      26.23  \n",
       "2  23966.36    12099.71  122998.51  \n",
       "3   3362.29     1917.12   20851.14  \n",
       "4    121.00        0.00     184.33  "
      ]
     },
     "execution_count": 5,
     "metadata": {},
     "output_type": "execute_result"
    }
   ],
   "source": [
    "# Read data in\n",
    "df = pd.read_csv(path_data + '\\df_1415_longterm3.csv')\n",
    "df.head()"
   ]
  },
  {
   "cell_type": "code",
   "execution_count": 6,
   "metadata": {
    "collapsed": false
   },
   "outputs": [
    {
     "data": {
      "text/html": [
       "\n",
       "        <iframe\n",
       "            width=\"100%\"\n",
       "            height=\"500\"\n",
       "            src=\"pivottablejs.html\"\n",
       "            frameborder=\"0\"\n",
       "            allowfullscreen\n",
       "        ></iframe>\n",
       "        "
      ],
      "text/plain": [
       "<IPython.lib.display.IFrame at 0xeed4f60>"
      ]
     },
     "execution_count": 6,
     "metadata": {},
     "output_type": "execute_result"
    }
   ],
   "source": [
    "from pivottablejs import pivot_ui\n",
    "\n",
    "pivot_ui(df, color=)"
   ]
  },
  {
   "cell_type": "code",
   "execution_count": null,
   "metadata": {
    "collapsed": true
   },
   "outputs": [],
   "source": []
  }
 ],
 "metadata": {
  "kernelspec": {
   "display_name": "Python [Root]",
   "language": "python",
   "name": "Python [Root]"
  },
  "language_info": {
   "codemirror_mode": {
    "name": "ipython",
    "version": 3
   },
   "file_extension": ".py",
   "mimetype": "text/x-python",
   "name": "python",
   "nbconvert_exporter": "python",
   "pygments_lexer": "ipython3",
   "version": "3.5.1"
  }
 },
 "nbformat": 4,
 "nbformat_minor": 2
}
